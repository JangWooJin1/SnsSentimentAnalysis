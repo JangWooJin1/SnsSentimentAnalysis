{
 "cells": [
  {
   "cell_type": "markdown",
   "source": [],
   "metadata": {
    "collapsed": false
   },
   "id": "f8f07bbb6b7c4b83"
  },
  {
   "cell_type": "markdown",
   "source": [
    "# 오픈소스 학습 데이터셋 가져오기"
   ],
   "metadata": {
    "collapsed": false
   },
   "id": "986bd1eb13012d2f"
  },
  {
   "cell_type": "code",
   "execution_count": 1,
   "id": "initial_id",
   "metadata": {
    "collapsed": true,
    "ExecuteTime": {
     "end_time": "2023-11-21T05:13:22.527738300Z",
     "start_time": "2023-11-21T05:13:21.985481100Z"
    }
   },
   "outputs": [],
   "source": [
    "import pandas as pd"
   ]
  },
  {
   "cell_type": "markdown",
   "source": [
    "## nsmc\n",
    "- 긍정(1), 부정(0) 데이터 셋"
   ],
   "metadata": {
    "collapsed": false
   },
   "id": "4d5912aec7b43141"
  },
  {
   "cell_type": "code",
   "execution_count": 9,
   "outputs": [
    {
     "data": {
      "text/plain": "                                                   document  label\nid                                                                \n9976970                                 아 더빙.. 진짜 짜증나네요 목소리      0\n3819312                   흠...포스터보고 초딩영화줄....오버연기조차 가볍지 않구나      1\n10265843                                  너무재밓었다그래서보는것을추천한다      0\n9045019                       교도소 이야기구먼 ..솔직히 재미는 없다..평점 조정      0\n6483659   사이몬페그의 익살스런 연기가 돋보였던 영화!스파이더맨에서 늙어보이기만 했던 커스틴 ...      1\n...                                                     ...    ...\n6222902                                 인간이 문제지.. 소는 뭔죄인가..      0\n8549745                                       평점이 너무 낮아서...      1\n9311800                     이게 뭐요? 한국인은 거들먹거리고 필리핀 혼혈은 착하다?      0\n2376369                         청춘 영화의 최고봉.방황과 우울했던 날들의 자화상      1\n9619869                            한국 영화 최초로 수간하는 내용이 담긴 영화      0\n\n[150000 rows x 2 columns]",
      "text/html": "<div>\n<style scoped>\n    .dataframe tbody tr th:only-of-type {\n        vertical-align: middle;\n    }\n\n    .dataframe tbody tr th {\n        vertical-align: top;\n    }\n\n    .dataframe thead th {\n        text-align: right;\n    }\n</style>\n<table border=\"1\" class=\"dataframe\">\n  <thead>\n    <tr style=\"text-align: right;\">\n      <th></th>\n      <th>document</th>\n      <th>label</th>\n    </tr>\n    <tr>\n      <th>id</th>\n      <th></th>\n      <th></th>\n    </tr>\n  </thead>\n  <tbody>\n    <tr>\n      <th>9976970</th>\n      <td>아 더빙.. 진짜 짜증나네요 목소리</td>\n      <td>0</td>\n    </tr>\n    <tr>\n      <th>3819312</th>\n      <td>흠...포스터보고 초딩영화줄....오버연기조차 가볍지 않구나</td>\n      <td>1</td>\n    </tr>\n    <tr>\n      <th>10265843</th>\n      <td>너무재밓었다그래서보는것을추천한다</td>\n      <td>0</td>\n    </tr>\n    <tr>\n      <th>9045019</th>\n      <td>교도소 이야기구먼 ..솔직히 재미는 없다..평점 조정</td>\n      <td>0</td>\n    </tr>\n    <tr>\n      <th>6483659</th>\n      <td>사이몬페그의 익살스런 연기가 돋보였던 영화!스파이더맨에서 늙어보이기만 했던 커스틴 ...</td>\n      <td>1</td>\n    </tr>\n    <tr>\n      <th>...</th>\n      <td>...</td>\n      <td>...</td>\n    </tr>\n    <tr>\n      <th>6222902</th>\n      <td>인간이 문제지.. 소는 뭔죄인가..</td>\n      <td>0</td>\n    </tr>\n    <tr>\n      <th>8549745</th>\n      <td>평점이 너무 낮아서...</td>\n      <td>1</td>\n    </tr>\n    <tr>\n      <th>9311800</th>\n      <td>이게 뭐요? 한국인은 거들먹거리고 필리핀 혼혈은 착하다?</td>\n      <td>0</td>\n    </tr>\n    <tr>\n      <th>2376369</th>\n      <td>청춘 영화의 최고봉.방황과 우울했던 날들의 자화상</td>\n      <td>1</td>\n    </tr>\n    <tr>\n      <th>9619869</th>\n      <td>한국 영화 최초로 수간하는 내용이 담긴 영화</td>\n      <td>0</td>\n    </tr>\n  </tbody>\n</table>\n<p>150000 rows × 2 columns</p>\n</div>"
     },
     "execution_count": 9,
     "metadata": {},
     "output_type": "execute_result"
    }
   ],
   "source": [
    "file1 = './train/긍부정데이터셋.txt'\n",
    "\n",
    "data1 = pd.read_table(file1, index_col='id')\n",
    "\n",
    "data1"
   ],
   "metadata": {
    "collapsed": false,
    "ExecuteTime": {
     "end_time": "2023-11-21T05:26:04.990394300Z",
     "start_time": "2023-11-21T05:26:04.352360900Z"
    }
   },
   "id": "3d765901c62e7012"
  },
  {
   "cell_type": "code",
   "execution_count": 5,
   "outputs": [
    {
     "name": "stdout",
     "output_type": "stream",
     "text": [
      "[0 1]\n"
     ]
    }
   ],
   "source": [
    "# 라벨 종류 확인\n",
    "unique_label1 = data1['label'].unique()\n",
    "\n",
    "print(unique_label1)"
   ],
   "metadata": {
    "collapsed": false,
    "ExecuteTime": {
     "end_time": "2023-11-21T05:19:05.997421400Z",
     "start_time": "2023-11-21T05:19:05.832571500Z"
    }
   },
   "id": "2efd3aa6fb089c36"
  },
  {
   "cell_type": "code",
   "execution_count": 12,
   "outputs": [],
   "source": [
    "data1.to_excel('./train/긍부정데이터셋.xlsx', engine='openpyxl')"
   ],
   "metadata": {
    "collapsed": false,
    "ExecuteTime": {
     "end_time": "2023-11-21T05:41:04.566774400Z",
     "start_time": "2023-11-21T05:40:23.425507300Z"
    }
   },
   "id": "84674ccd552b7db3"
  },
  {
   "cell_type": "markdown",
   "source": [
    "## 2번쨰 데이터 셋\n",
    "- '공포' '놀람' '분노' '슬픔' '중립' '행복' '혐오' -> 7가지 감정 데이터 셋"
   ],
   "metadata": {
    "collapsed": false
   },
   "id": "c4a6dd737e74729a"
  },
  {
   "cell_type": "code",
   "execution_count": 8,
   "outputs": [
    {
     "data": {
      "text/plain": "                                                Sentence Emotion\n0                               언니 동생으로 부르는게 맞는 일인가요..??      공포\n1                                           그냥 내 느낌일뿐겠지?      공포\n2                                         아직너무초기라서 그런거죠?      공포\n3                                          유치원버스 사고 낫다던데      공포\n4                                            근데 원래이런거맞나요      공포\n...                                                  ...     ...\n38589               솔직히 예보 제대로 못하는 데 세금이라도 아끼게 그냥 폐지해라..      혐오\n38590                                        재미가 없으니 망하지      혐오\n38591  공장 도시락 비우생적임 아르바이트했는데 화장실가성 손도 않씯고 재료 담고 바닥 떨어...      혐오\n38592               코딱지 만한 나라에서 지들끼리 피터지게 싸우는 센징 클래스 ㅉㅉㅉ      혐오\n38593               와이프도 그렇고 댓글 다 볼텐데 이휘재 좀 하차 하라고 전해주세요      혐오\n\n[38594 rows x 2 columns]",
      "text/html": "<div>\n<style scoped>\n    .dataframe tbody tr th:only-of-type {\n        vertical-align: middle;\n    }\n\n    .dataframe tbody tr th {\n        vertical-align: top;\n    }\n\n    .dataframe thead th {\n        text-align: right;\n    }\n</style>\n<table border=\"1\" class=\"dataframe\">\n  <thead>\n    <tr style=\"text-align: right;\">\n      <th></th>\n      <th>Sentence</th>\n      <th>Emotion</th>\n    </tr>\n  </thead>\n  <tbody>\n    <tr>\n      <th>0</th>\n      <td>언니 동생으로 부르는게 맞는 일인가요..??</td>\n      <td>공포</td>\n    </tr>\n    <tr>\n      <th>1</th>\n      <td>그냥 내 느낌일뿐겠지?</td>\n      <td>공포</td>\n    </tr>\n    <tr>\n      <th>2</th>\n      <td>아직너무초기라서 그런거죠?</td>\n      <td>공포</td>\n    </tr>\n    <tr>\n      <th>3</th>\n      <td>유치원버스 사고 낫다던데</td>\n      <td>공포</td>\n    </tr>\n    <tr>\n      <th>4</th>\n      <td>근데 원래이런거맞나요</td>\n      <td>공포</td>\n    </tr>\n    <tr>\n      <th>...</th>\n      <td>...</td>\n      <td>...</td>\n    </tr>\n    <tr>\n      <th>38589</th>\n      <td>솔직히 예보 제대로 못하는 데 세금이라도 아끼게 그냥 폐지해라..</td>\n      <td>혐오</td>\n    </tr>\n    <tr>\n      <th>38590</th>\n      <td>재미가 없으니 망하지</td>\n      <td>혐오</td>\n    </tr>\n    <tr>\n      <th>38591</th>\n      <td>공장 도시락 비우생적임 아르바이트했는데 화장실가성 손도 않씯고 재료 담고 바닥 떨어...</td>\n      <td>혐오</td>\n    </tr>\n    <tr>\n      <th>38592</th>\n      <td>코딱지 만한 나라에서 지들끼리 피터지게 싸우는 센징 클래스 ㅉㅉㅉ</td>\n      <td>혐오</td>\n    </tr>\n    <tr>\n      <th>38593</th>\n      <td>와이프도 그렇고 댓글 다 볼텐데 이휘재 좀 하차 하라고 전해주세요</td>\n      <td>혐오</td>\n    </tr>\n  </tbody>\n</table>\n<p>38594 rows × 2 columns</p>\n</div>"
     },
     "execution_count": 8,
     "metadata": {},
     "output_type": "execute_result"
    }
   ],
   "source": [
    "file2 = './train/7가지감정데이터셋.xlsx'\n",
    "\n",
    "data2 = pd.read_excel(file2, usecols=['Sentence', 'Emotion'])\n",
    "\n",
    "data2"
   ],
   "metadata": {
    "collapsed": false,
    "ExecuteTime": {
     "end_time": "2023-11-21T05:24:57.640437400Z",
     "start_time": "2023-11-21T05:24:55.037321900Z"
    }
   },
   "id": "c0f0a3f0b96da8f8"
  },
  {
   "cell_type": "code",
   "execution_count": 6,
   "outputs": [
    {
     "name": "stdout",
     "output_type": "stream",
     "text": [
      "['공포' '놀람' '분노' '슬픔' '중립' '행복' '혐오']\n"
     ]
    }
   ],
   "source": [
    "# 라벨 종류 확인\n",
    "unique_label2 = data2['Emotion'].unique()\n",
    "\n",
    "print(unique_label2)"
   ],
   "metadata": {
    "collapsed": false,
    "ExecuteTime": {
     "end_time": "2023-11-21T05:19:50.135048500Z",
     "start_time": "2023-11-21T05:19:49.933790600Z"
    }
   },
   "id": "e36ecbde9f6870ae"
  },
  {
   "cell_type": "markdown",
   "source": [
    "## 3번째 데이터 셋\n",
    "- 혐오 데이터 셋"
   ],
   "metadata": {
    "collapsed": false
   },
   "id": "9d3213b3b14648d8"
  },
  {
   "cell_type": "code",
   "execution_count": 4,
   "outputs": [
    {
     "data": {
      "text/plain": "                                               comments  contain_gender_bias  \\\n0     (현재 호텔주인 심정) 아18 난 마른하늘에 날벼락맞고 호텔망하게생겼는데 누군 계속...                False   \n1     ....한국적인 미인의 대표적인 분...너무나 곱고아름다운모습...그모습뒤의 슬픔을...                False   \n2     ...못된 넘들...남의 고통을 즐겼던 넘들..이젠 마땅한 처벌을 받아야지..,그래...                False   \n3                    1,2화 어설펐는데 3,4화 지나서부터는 갈수록 너무 재밌던데                False   \n4     1. 사람 얼굴 손톱으로 긁은것은 인격살해이고2. 동영상이 몰카냐? 메걸리안들 생각...                 True   \n...                                                 ...                  ...   \n7891                                      힘내세요~ 응원합니다!!                False   \n7892                             힘내세요~~삼가 고인의 명복을 빕니다..                False   \n7893                              힘내세용 ^^ 항상 응원합니닷 ^^ !                False   \n7894  힘내소...연기로 답해요.나도 53살 인데 이런일 저런일 다 있더라구요.인격을 믿습...                False   \n7895                                 힘들면 관뒀어야지 그게 현명한거다                False   \n\n        bias  hate  \n0     others  hate  \n1       none  none  \n2       none  hate  \n3       none  none  \n4     gender  hate  \n...      ...   ...  \n7891    none  none  \n7892    none  none  \n7893    none  none  \n7894    none  none  \n7895    none  none  \n\n[7896 rows x 4 columns]",
      "text/html": "<div>\n<style scoped>\n    .dataframe tbody tr th:only-of-type {\n        vertical-align: middle;\n    }\n\n    .dataframe tbody tr th {\n        vertical-align: top;\n    }\n\n    .dataframe thead th {\n        text-align: right;\n    }\n</style>\n<table border=\"1\" class=\"dataframe\">\n  <thead>\n    <tr style=\"text-align: right;\">\n      <th></th>\n      <th>comments</th>\n      <th>contain_gender_bias</th>\n      <th>bias</th>\n      <th>hate</th>\n    </tr>\n  </thead>\n  <tbody>\n    <tr>\n      <th>0</th>\n      <td>(현재 호텔주인 심정) 아18 난 마른하늘에 날벼락맞고 호텔망하게생겼는데 누군 계속...</td>\n      <td>False</td>\n      <td>others</td>\n      <td>hate</td>\n    </tr>\n    <tr>\n      <th>1</th>\n      <td>....한국적인 미인의 대표적인 분...너무나 곱고아름다운모습...그모습뒤의 슬픔을...</td>\n      <td>False</td>\n      <td>none</td>\n      <td>none</td>\n    </tr>\n    <tr>\n      <th>2</th>\n      <td>...못된 넘들...남의 고통을 즐겼던 넘들..이젠 마땅한 처벌을 받아야지..,그래...</td>\n      <td>False</td>\n      <td>none</td>\n      <td>hate</td>\n    </tr>\n    <tr>\n      <th>3</th>\n      <td>1,2화 어설펐는데 3,4화 지나서부터는 갈수록 너무 재밌던데</td>\n      <td>False</td>\n      <td>none</td>\n      <td>none</td>\n    </tr>\n    <tr>\n      <th>4</th>\n      <td>1. 사람 얼굴 손톱으로 긁은것은 인격살해이고2. 동영상이 몰카냐? 메걸리안들 생각...</td>\n      <td>True</td>\n      <td>gender</td>\n      <td>hate</td>\n    </tr>\n    <tr>\n      <th>...</th>\n      <td>...</td>\n      <td>...</td>\n      <td>...</td>\n      <td>...</td>\n    </tr>\n    <tr>\n      <th>7891</th>\n      <td>힘내세요~ 응원합니다!!</td>\n      <td>False</td>\n      <td>none</td>\n      <td>none</td>\n    </tr>\n    <tr>\n      <th>7892</th>\n      <td>힘내세요~~삼가 고인의 명복을 빕니다..</td>\n      <td>False</td>\n      <td>none</td>\n      <td>none</td>\n    </tr>\n    <tr>\n      <th>7893</th>\n      <td>힘내세용 ^^ 항상 응원합니닷 ^^ !</td>\n      <td>False</td>\n      <td>none</td>\n      <td>none</td>\n    </tr>\n    <tr>\n      <th>7894</th>\n      <td>힘내소...연기로 답해요.나도 53살 인데 이런일 저런일 다 있더라구요.인격을 믿습...</td>\n      <td>False</td>\n      <td>none</td>\n      <td>none</td>\n    </tr>\n    <tr>\n      <th>7895</th>\n      <td>힘들면 관뒀어야지 그게 현명한거다</td>\n      <td>False</td>\n      <td>none</td>\n      <td>none</td>\n    </tr>\n  </tbody>\n</table>\n<p>7896 rows × 4 columns</p>\n</div>"
     },
     "execution_count": 4,
     "metadata": {},
     "output_type": "execute_result"
    }
   ],
   "source": [
    "file3 = './train/혐오단어데이터셋.tsv'\n",
    "\n",
    "data3 = pd.read_csv(file3, delimiter='\\t')\n",
    "\n",
    "data3"
   ],
   "metadata": {
    "collapsed": false,
    "ExecuteTime": {
     "end_time": "2023-11-21T05:14:50.141465800Z",
     "start_time": "2023-11-21T05:14:50.085583300Z"
    }
   },
   "id": "f5ab958a9fdfd651"
  },
  {
   "cell_type": "code",
   "execution_count": 7,
   "outputs": [
    {
     "name": "stdout",
     "output_type": "stream",
     "text": [
      "['hate' 'none' 'offensive']\n"
     ]
    }
   ],
   "source": [
    "# 라벨 종류 확인\n",
    "unique_label3 = data3['hate'].unique()\n",
    "\n",
    "print(unique_label3)"
   ],
   "metadata": {
    "collapsed": false,
    "ExecuteTime": {
     "end_time": "2023-11-21T05:20:15.260685200Z",
     "start_time": "2023-11-21T05:20:15.208588Z"
    }
   },
   "id": "7f1bec053835f61e"
  },
  {
   "cell_type": "code",
   "execution_count": 11,
   "outputs": [],
   "source": [
    "data3.to_excel('./train/혐오단어데이터셋.xlsx', engine='openpyxl')"
   ],
   "metadata": {
    "collapsed": false,
    "ExecuteTime": {
     "end_time": "2023-11-21T05:39:01.158254500Z",
     "start_time": "2023-11-21T05:38:58.538729700Z"
    }
   },
   "id": "8f6419468eceaf8b"
  },
  {
   "cell_type": "code",
   "execution_count": null,
   "outputs": [],
   "source": [],
   "metadata": {
    "collapsed": false
   },
   "id": "26232c46e792d94d"
  }
 ],
 "metadata": {
  "kernelspec": {
   "display_name": "Python 3",
   "language": "python",
   "name": "python3"
  },
  "language_info": {
   "codemirror_mode": {
    "name": "ipython",
    "version": 2
   },
   "file_extension": ".py",
   "mimetype": "text/x-python",
   "name": "python",
   "nbconvert_exporter": "python",
   "pygments_lexer": "ipython2",
   "version": "2.7.6"
  }
 },
 "nbformat": 4,
 "nbformat_minor": 5
}
