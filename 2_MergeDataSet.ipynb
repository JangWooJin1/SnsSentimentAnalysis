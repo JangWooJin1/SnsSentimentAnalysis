{
 "cells": [
  {
   "cell_type": "code",
   "execution_count": 11,
   "id": "initial_id",
   "metadata": {
    "collapsed": true,
    "ExecuteTime": {
     "end_time": "2023-11-21T15:48:01.938569100Z",
     "start_time": "2023-11-21T15:48:01.891376900Z"
    }
   },
   "outputs": [],
   "source": [
    "import pandas as pd\n",
    "import os"
   ]
  },
  {
   "cell_type": "code",
   "execution_count": 12,
   "outputs": [
    {
     "name": "stdout",
     "output_type": "stream",
     "text": [
      "국가애도기간파일 병합중...\n",
      "\t국가애도기간1.xlsx = 102개\n",
      "\t국가애도기간2.xlsx = 31개\n",
      "\t국가애도기간3.xlsx = 967개\n",
      "\t국가애도기간4.xlsx = 30개\n",
      "\t국가애도기간5.xlsx = 226개\n",
      "#병합끝 : 총1356개 데이터\n",
      "용어지침파일 병합중...\n",
      "\t용어지침1.xlsx = 554개\n",
      "\t용어지침2.xlsx = 1309개\n",
      "\t용어지침3.xlsx = 57개\n",
      "\t용어지침4.xlsx = 23개\n",
      "#병합끝 : 총1943개 데이터\n",
      "대통령사과파일 병합중...\n",
      "\t대통령사과1.xlsx = 499개\n",
      "\t대통령사과2.xlsx = 31개\n",
      "\t대통령사과3.xlsx = 95개\n",
      "\t대통령사과4.xlsx = 54개\n",
      "\t대통령사과5.xlsx = 374개\n",
      "#병합끝 : 총1053개 데이터\n",
      "경찰책임파일 병합중...\n",
      "\t경찰책임1.xlsx = 1212개\n",
      "\t경찰책임2.xlsx = 198개\n",
      "\t경찰책임3.xlsx = 93개\n",
      "\t경찰책임4.xlsx = 722개\n",
      "\t경찰책임5.xlsx = 892개\n",
      "\t경찰책임6.xlsx = 22개\n",
      "\t경찰책임7.xlsx = 895개\n",
      "#병합끝 : 총4034개 데이터\n",
      "정부책임파일 병합중...\n",
      "\t정부책임1.xlsx = 166개\n",
      "\t정부책임2.xlsx = 258개\n",
      "\t정부책임3.xlsx = 145개\n",
      "\t정부책임4.xlsx = 415개\n",
      "#병합끝 : 총984개 데이터\n",
      "유가족협의회파일 병합중...\n",
      "\t유가족협의회1.xlsx = 171개\n",
      "\t유가족협의회2.xlsx = 431개\n",
      "\t유가족협의회3.xlsx = 37개\n",
      "\t유가족협의회4.xlsx = 115개\n",
      "\t유가족협의회5.xlsx = 159개\n",
      "#병합끝 : 총913개 데이터\n",
      "특별법파일 병합중...\n",
      "\t특별법1.xlsx = 338개\n",
      "\t특별법2.xlsx = 129개\n",
      "\t특별법3.xlsx = 20개\n",
      "\t특별법4.xlsx = 38개\n",
      "\t특별법5.xlsx = 51개\n",
      "#병합끝 : 총576개 데이터\n"
     ]
    }
   ],
   "source": [
    "# 결과를 저장할 빈 데이터프레임 생성\n",
    "merged_df = pd.DataFrame()\n",
    "\n",
    "dfs = []\n",
    "\n",
    "# 각각의 엑셀 파일에서 데이터를 읽어와 통합\n",
    "file_prefix = [\"국가애도기간\", \"용어지침\", \"대통령사과\", \"경찰책임\", \"정부책임\", \"유가족협의회\", \"특별법\"]\n",
    "\n",
    "for prefix in file_prefix:\n",
    "    print(f\"{prefix}파일 병합중...\")\n",
    "    file_size = 0\n",
    "    merged_df = pd.DataFrame()\n",
    "    i = 1\n",
    "    while True:\n",
    "        file_path = f\"./1_crawled/{prefix}{i}.xlsx\"\n",
    "        if os.path.exists(file_path):\n",
    "            df = pd.read_excel(file_path)\n",
    "            print(f\"\\t{prefix}{i}.xlsx = {df.shape[0]}개\")\n",
    "            file_size += df.shape[0]\n",
    "            merged_df = pd.concat([merged_df, df], ignore_index=True)\n",
    "            i += 1\n",
    "        else:\n",
    "            dfs.append(merged_df)\n",
    "            print(f\"#병합끝 : 총{file_size}개 데이터\")\n",
    "            break"
   ],
   "metadata": {
    "collapsed": false,
    "ExecuteTime": {
     "end_time": "2023-11-21T15:48:05.508733500Z",
     "start_time": "2023-11-21T15:48:01.911427800Z"
    }
   },
   "id": "d399bf6ef770e781"
  },
  {
   "cell_type": "code",
   "execution_count": 13,
   "outputs": [
    {
     "data": {
      "text/plain": "      Unnamed: 0   owner                                              title  \\\n0              0     YTN  [속보] 정부 \"5일까지 국가 애도기간\".. 정치권도 위로와 애도 표해  / 이태원...   \n1              1     YTN  [속보] 정부 \"5일까지 국가 애도기간\".. 정치권도 위로와 애도 표해  / 이태원...   \n2              2     YTN  [속보] 정부 \"5일까지 국가 애도기간\".. 정치권도 위로와 애도 표해  / 이태원...   \n3              3     YTN  [속보] 정부 \"5일까지 국가 애도기간\".. 정치권도 위로와 애도 표해  / 이태원...   \n4              4     YTN  [속보] 정부 \"5일까지 국가 애도기간\".. 정치권도 위로와 애도 표해  / 이태원...   \n...          ...     ...                                                ...   \n1351         221  SBS 뉴스  11월 5일까지 국가애도기간…\"신원미확인자, 17세 미만·외국인 등\" (현장영상) ...   \n1352         222  SBS 뉴스  11월 5일까지 국가애도기간…\"신원미확인자, 17세 미만·외국인 등\" (현장영상) ...   \n1353         223  SBS 뉴스  11월 5일까지 국가애도기간…\"신원미확인자, 17세 미만·외국인 등\" (현장영상) ...   \n1354         224  SBS 뉴스  11월 5일까지 국가애도기간…\"신원미확인자, 17세 미만·외국인 등\" (현장영상) ...   \n1355         225  SBS 뉴스  11월 5일까지 국가애도기간…\"신원미확인자, 17세 미만·외국인 등\" (현장영상) ...   \n\n                Username                                            Comment  \\\n0       @user-ss5hd8ou7o   어처구니없는사건 하루종일가슴이먹먹하네요 너무도아까운젊은이들 비통하네요 고인의명복을빕니다   \n1           @topcule3830  국민들이 바라지도 않은 본인 용와대 출근에는 경찰 인력을 700명이나 동원하면서 수...   \n2       @user-zv6ty8rw2i  국가를 위해서 몸바쳐 돌아가신분들은 아닙니다. 국가애도기간이라니…정말 어이가 없네요...   \n3            @Akfg-ez7fq  사전에 통행유도등 통제가\\n제대로 이루어 졌다면 \\n단,한사람의 생명도 잃지\\n않았...   \n4            @yokool6805  애도기간이 일주일이나 된다면 순국열사 수준보다 더하니, 책임자 사퇴시켜라. 국민세금...   \n...                  ...                                                ...   \n1351  @soundofnature6791  그놈의 세월호도 놀러가다 사고난건데 이젠 누구나 놀다가 사고나서 죽으면 다 보상받고...   \n1352    @user-yb1su3pc6l  청와대를 용산으로 옮기지 안했더라면 많은 보안 인력이 이태원으로  배치해서 이렇게 ...   \n1353    @user-ml8pt1ft3f  삼가고인의 명복을빕니다 그리고 내가족이 사고당했다생각하고 정부가하는 최선의 방칙에 ...   \n1354    @user-yb1su3pc6l            너무 젊은 국민들이 많이 사망하여 국가 애도 및 조기계양을 해야 맞다.   \n1355    @user-yb1su3pc6l  애도를 당연히 해야 맞다.\\n국가책무다.\\n왜냐 국민을 안전보호를 다하지 못했다.\\...   \n\n      Likes                        Times  \n0       2.0  실시간 스트리밍 시작일: 2022. 10. 29.  \n1      37.0  실시간 스트리밍 시작일: 2022. 10. 29.  \n2      49.0  실시간 스트리밍 시작일: 2022. 10. 29.  \n3      30.0  실시간 스트리밍 시작일: 2022. 10. 29.  \n4      21.0  실시간 스트리밍 시작일: 2022. 10. 29.  \n...     ...                          ...  \n1351    NaN                2022. 10. 29.  \n1352    2.0                2022. 10. 29.  \n1353    5.0                2022. 10. 29.  \n1354    NaN                2022. 10. 29.  \n1355    NaN                2022. 10. 29.  \n\n[1356 rows x 7 columns]",
      "text/html": "<div>\n<style scoped>\n    .dataframe tbody tr th:only-of-type {\n        vertical-align: middle;\n    }\n\n    .dataframe tbody tr th {\n        vertical-align: top;\n    }\n\n    .dataframe thead th {\n        text-align: right;\n    }\n</style>\n<table border=\"1\" class=\"dataframe\">\n  <thead>\n    <tr style=\"text-align: right;\">\n      <th></th>\n      <th>Unnamed: 0</th>\n      <th>owner</th>\n      <th>title</th>\n      <th>Username</th>\n      <th>Comment</th>\n      <th>Likes</th>\n      <th>Times</th>\n    </tr>\n  </thead>\n  <tbody>\n    <tr>\n      <th>0</th>\n      <td>0</td>\n      <td>YTN</td>\n      <td>[속보] 정부 \"5일까지 국가 애도기간\".. 정치권도 위로와 애도 표해  / 이태원...</td>\n      <td>@user-ss5hd8ou7o</td>\n      <td>어처구니없는사건 하루종일가슴이먹먹하네요 너무도아까운젊은이들 비통하네요 고인의명복을빕니다</td>\n      <td>2.0</td>\n      <td>실시간 스트리밍 시작일: 2022. 10. 29.</td>\n    </tr>\n    <tr>\n      <th>1</th>\n      <td>1</td>\n      <td>YTN</td>\n      <td>[속보] 정부 \"5일까지 국가 애도기간\".. 정치권도 위로와 애도 표해  / 이태원...</td>\n      <td>@topcule3830</td>\n      <td>국민들이 바라지도 않은 본인 용와대 출근에는 경찰 인력을 700명이나 동원하면서 수...</td>\n      <td>37.0</td>\n      <td>실시간 스트리밍 시작일: 2022. 10. 29.</td>\n    </tr>\n    <tr>\n      <th>2</th>\n      <td>2</td>\n      <td>YTN</td>\n      <td>[속보] 정부 \"5일까지 국가 애도기간\".. 정치권도 위로와 애도 표해  / 이태원...</td>\n      <td>@user-zv6ty8rw2i</td>\n      <td>국가를 위해서 몸바쳐 돌아가신분들은 아닙니다. 국가애도기간이라니…정말 어이가 없네요...</td>\n      <td>49.0</td>\n      <td>실시간 스트리밍 시작일: 2022. 10. 29.</td>\n    </tr>\n    <tr>\n      <th>3</th>\n      <td>3</td>\n      <td>YTN</td>\n      <td>[속보] 정부 \"5일까지 국가 애도기간\".. 정치권도 위로와 애도 표해  / 이태원...</td>\n      <td>@Akfg-ez7fq</td>\n      <td>사전에 통행유도등 통제가\\n제대로 이루어 졌다면 \\n단,한사람의 생명도 잃지\\n않았...</td>\n      <td>30.0</td>\n      <td>실시간 스트리밍 시작일: 2022. 10. 29.</td>\n    </tr>\n    <tr>\n      <th>4</th>\n      <td>4</td>\n      <td>YTN</td>\n      <td>[속보] 정부 \"5일까지 국가 애도기간\".. 정치권도 위로와 애도 표해  / 이태원...</td>\n      <td>@yokool6805</td>\n      <td>애도기간이 일주일이나 된다면 순국열사 수준보다 더하니, 책임자 사퇴시켜라. 국민세금...</td>\n      <td>21.0</td>\n      <td>실시간 스트리밍 시작일: 2022. 10. 29.</td>\n    </tr>\n    <tr>\n      <th>...</th>\n      <td>...</td>\n      <td>...</td>\n      <td>...</td>\n      <td>...</td>\n      <td>...</td>\n      <td>...</td>\n      <td>...</td>\n    </tr>\n    <tr>\n      <th>1351</th>\n      <td>221</td>\n      <td>SBS 뉴스</td>\n      <td>11월 5일까지 국가애도기간…\"신원미확인자, 17세 미만·외국인 등\" (현장영상) ...</td>\n      <td>@soundofnature6791</td>\n      <td>그놈의 세월호도 놀러가다 사고난건데 이젠 누구나 놀다가 사고나서 죽으면 다 보상받고...</td>\n      <td>NaN</td>\n      <td>2022. 10. 29.</td>\n    </tr>\n    <tr>\n      <th>1352</th>\n      <td>222</td>\n      <td>SBS 뉴스</td>\n      <td>11월 5일까지 국가애도기간…\"신원미확인자, 17세 미만·외국인 등\" (현장영상) ...</td>\n      <td>@user-yb1su3pc6l</td>\n      <td>청와대를 용산으로 옮기지 안했더라면 많은 보안 인력이 이태원으로  배치해서 이렇게 ...</td>\n      <td>2.0</td>\n      <td>2022. 10. 29.</td>\n    </tr>\n    <tr>\n      <th>1353</th>\n      <td>223</td>\n      <td>SBS 뉴스</td>\n      <td>11월 5일까지 국가애도기간…\"신원미확인자, 17세 미만·외국인 등\" (현장영상) ...</td>\n      <td>@user-ml8pt1ft3f</td>\n      <td>삼가고인의 명복을빕니다 그리고 내가족이 사고당했다생각하고 정부가하는 최선의 방칙에 ...</td>\n      <td>5.0</td>\n      <td>2022. 10. 29.</td>\n    </tr>\n    <tr>\n      <th>1354</th>\n      <td>224</td>\n      <td>SBS 뉴스</td>\n      <td>11월 5일까지 국가애도기간…\"신원미확인자, 17세 미만·외국인 등\" (현장영상) ...</td>\n      <td>@user-yb1su3pc6l</td>\n      <td>너무 젊은 국민들이 많이 사망하여 국가 애도 및 조기계양을 해야 맞다.</td>\n      <td>NaN</td>\n      <td>2022. 10. 29.</td>\n    </tr>\n    <tr>\n      <th>1355</th>\n      <td>225</td>\n      <td>SBS 뉴스</td>\n      <td>11월 5일까지 국가애도기간…\"신원미확인자, 17세 미만·외국인 등\" (현장영상) ...</td>\n      <td>@user-yb1su3pc6l</td>\n      <td>애도를 당연히 해야 맞다.\\n국가책무다.\\n왜냐 국민을 안전보호를 다하지 못했다.\\...</td>\n      <td>NaN</td>\n      <td>2022. 10. 29.</td>\n    </tr>\n  </tbody>\n</table>\n<p>1356 rows × 7 columns</p>\n</div>"
     },
     "execution_count": 13,
     "metadata": {},
     "output_type": "execute_result"
    }
   ],
   "source": [
    "dfs[0]"
   ],
   "metadata": {
    "collapsed": false,
    "ExecuteTime": {
     "end_time": "2023-11-21T15:48:05.549596Z",
     "start_time": "2023-11-21T15:48:05.512169400Z"
    }
   },
   "id": "1fa5cb630349e440"
  },
  {
   "cell_type": "code",
   "execution_count": 14,
   "outputs": [
    {
     "data": {
      "text/plain": "      Unnamed: 0     owner                                              title  \\\n0              0   MBCNEWS              MBC는 '이태원 참사'가 아닌 '10·29 참사'로 부르겠습니다.   \n1              1   MBCNEWS              MBC는 '이태원 참사'가 아닌 '10·29 참사'로 부르겠습니다.   \n2              2   MBCNEWS              MBC는 '이태원 참사'가 아닌 '10·29 참사'로 부르겠습니다.   \n3              3   MBCNEWS              MBC는 '이태원 참사'가 아닌 '10·29 참사'로 부르겠습니다.   \n4              4   MBCNEWS              MBC는 '이태원 참사'가 아닌 '10·29 참사'로 부르겠습니다.   \n...          ...       ...                                                ...   \n1938          18  KBS News  “관광지 피해 고려 ‘참사’ 대신 ‘사고’…‘사망자’는 중립 표현” [9시 뉴스] ...   \n1939          19  KBS News  “관광지 피해 고려 ‘참사’ 대신 ‘사고’…‘사망자’는 중립 표현” [9시 뉴스] ...   \n1940          20  KBS News  “관광지 피해 고려 ‘참사’ 대신 ‘사고’…‘사망자’는 중립 표현” [9시 뉴스] ...   \n1941          21  KBS News  “관광지 피해 고려 ‘참사’ 대신 ‘사고’…‘사망자’는 중립 표현” [9시 뉴스] ...   \n1942          22  KBS News  “관광지 피해 고려 ‘참사’ 대신 ‘사고’…‘사망자’는 중립 표현” [9시 뉴스] ...   \n\n              Username                                            Comment  \\\n0            @korea333             MBC가 있어서 다행이고 안심이 됩니다. 국민에게 소중한 MBC!!!   \n1         @bluesky8629     10.29 참사를 잊지 않겠습니다. 다시 이러한 희생이 반복되지 않기를 기도합니다.   \n2         @sompark1322                             1029 참사 희생자분들의 명복을 빕니다   \n3     @user-tk4wc8gy7q                MBC 감사합니다. 10.29 참사 희생자분들의 명복을 빕니다.   \n4     @user-oz4gz1su3r     그럼 대구지하철 참사라고 안불렀어야지 삼십년간 대구지하철 참사로 부른 언론들은 뭔지   \n...                ...                                                ...   \n1938         @qqpp6017                                   놀러가서 죽은건데 희생이야??   \n1939  @user-ef6yt5hn6q                                         윤석열은 사퇴하라.   \n1940  @user-xi6rr5nk8r  솔직히 사고사망자가 맞지!!\\n이태원 할로윈에 놀러갔다 일어난 사곤데 무슨 희생자?...   \n1941  @user-zr9yb1xi8l                              그게 왜 사고사냐?  참사 희생자지ㆍㆍ   \n1942     @rewqqwer9783  희생 x 사고 o\\n참사와 사고는 뭐 각자 생각해서 쓰길 의미가 너무 광범위하다 둘...   \n\n      Likes         Times  \n0      40.0  2022. 11. 5.  \n1     223.0  2022. 11. 5.  \n2     108.0  2022. 11. 5.  \n3      60.0  2022. 11. 5.  \n4      14.0  2022. 11. 5.  \n...     ...           ...  \n1938   14.0  2022. 11. 2.  \n1939    8.0  2022. 11. 2.  \n1940    3.0  2022. 11. 2.  \n1941    1.0  2022. 11. 2.  \n1942    6.0  2022. 11. 2.  \n\n[1943 rows x 7 columns]",
      "text/html": "<div>\n<style scoped>\n    .dataframe tbody tr th:only-of-type {\n        vertical-align: middle;\n    }\n\n    .dataframe tbody tr th {\n        vertical-align: top;\n    }\n\n    .dataframe thead th {\n        text-align: right;\n    }\n</style>\n<table border=\"1\" class=\"dataframe\">\n  <thead>\n    <tr style=\"text-align: right;\">\n      <th></th>\n      <th>Unnamed: 0</th>\n      <th>owner</th>\n      <th>title</th>\n      <th>Username</th>\n      <th>Comment</th>\n      <th>Likes</th>\n      <th>Times</th>\n    </tr>\n  </thead>\n  <tbody>\n    <tr>\n      <th>0</th>\n      <td>0</td>\n      <td>MBCNEWS</td>\n      <td>MBC는 '이태원 참사'가 아닌 '10·29 참사'로 부르겠습니다.</td>\n      <td>@korea333</td>\n      <td>MBC가 있어서 다행이고 안심이 됩니다. 국민에게 소중한 MBC!!!</td>\n      <td>40.0</td>\n      <td>2022. 11. 5.</td>\n    </tr>\n    <tr>\n      <th>1</th>\n      <td>1</td>\n      <td>MBCNEWS</td>\n      <td>MBC는 '이태원 참사'가 아닌 '10·29 참사'로 부르겠습니다.</td>\n      <td>@bluesky8629</td>\n      <td>10.29 참사를 잊지 않겠습니다. 다시 이러한 희생이 반복되지 않기를 기도합니다.</td>\n      <td>223.0</td>\n      <td>2022. 11. 5.</td>\n    </tr>\n    <tr>\n      <th>2</th>\n      <td>2</td>\n      <td>MBCNEWS</td>\n      <td>MBC는 '이태원 참사'가 아닌 '10·29 참사'로 부르겠습니다.</td>\n      <td>@sompark1322</td>\n      <td>1029 참사 희생자분들의 명복을 빕니다</td>\n      <td>108.0</td>\n      <td>2022. 11. 5.</td>\n    </tr>\n    <tr>\n      <th>3</th>\n      <td>3</td>\n      <td>MBCNEWS</td>\n      <td>MBC는 '이태원 참사'가 아닌 '10·29 참사'로 부르겠습니다.</td>\n      <td>@user-tk4wc8gy7q</td>\n      <td>MBC 감사합니다. 10.29 참사 희생자분들의 명복을 빕니다.</td>\n      <td>60.0</td>\n      <td>2022. 11. 5.</td>\n    </tr>\n    <tr>\n      <th>4</th>\n      <td>4</td>\n      <td>MBCNEWS</td>\n      <td>MBC는 '이태원 참사'가 아닌 '10·29 참사'로 부르겠습니다.</td>\n      <td>@user-oz4gz1su3r</td>\n      <td>그럼 대구지하철 참사라고 안불렀어야지 삼십년간 대구지하철 참사로 부른 언론들은 뭔지</td>\n      <td>14.0</td>\n      <td>2022. 11. 5.</td>\n    </tr>\n    <tr>\n      <th>...</th>\n      <td>...</td>\n      <td>...</td>\n      <td>...</td>\n      <td>...</td>\n      <td>...</td>\n      <td>...</td>\n      <td>...</td>\n    </tr>\n    <tr>\n      <th>1938</th>\n      <td>18</td>\n      <td>KBS News</td>\n      <td>“관광지 피해 고려 ‘참사’ 대신 ‘사고’…‘사망자’는 중립 표현” [9시 뉴스] ...</td>\n      <td>@qqpp6017</td>\n      <td>놀러가서 죽은건데 희생이야??</td>\n      <td>14.0</td>\n      <td>2022. 11. 2.</td>\n    </tr>\n    <tr>\n      <th>1939</th>\n      <td>19</td>\n      <td>KBS News</td>\n      <td>“관광지 피해 고려 ‘참사’ 대신 ‘사고’…‘사망자’는 중립 표현” [9시 뉴스] ...</td>\n      <td>@user-ef6yt5hn6q</td>\n      <td>윤석열은 사퇴하라.</td>\n      <td>8.0</td>\n      <td>2022. 11. 2.</td>\n    </tr>\n    <tr>\n      <th>1940</th>\n      <td>20</td>\n      <td>KBS News</td>\n      <td>“관광지 피해 고려 ‘참사’ 대신 ‘사고’…‘사망자’는 중립 표현” [9시 뉴스] ...</td>\n      <td>@user-xi6rr5nk8r</td>\n      <td>솔직히 사고사망자가 맞지!!\\n이태원 할로윈에 놀러갔다 일어난 사곤데 무슨 희생자?...</td>\n      <td>3.0</td>\n      <td>2022. 11. 2.</td>\n    </tr>\n    <tr>\n      <th>1941</th>\n      <td>21</td>\n      <td>KBS News</td>\n      <td>“관광지 피해 고려 ‘참사’ 대신 ‘사고’…‘사망자’는 중립 표현” [9시 뉴스] ...</td>\n      <td>@user-zr9yb1xi8l</td>\n      <td>그게 왜 사고사냐?  참사 희생자지ㆍㆍ</td>\n      <td>1.0</td>\n      <td>2022. 11. 2.</td>\n    </tr>\n    <tr>\n      <th>1942</th>\n      <td>22</td>\n      <td>KBS News</td>\n      <td>“관광지 피해 고려 ‘참사’ 대신 ‘사고’…‘사망자’는 중립 표현” [9시 뉴스] ...</td>\n      <td>@rewqqwer9783</td>\n      <td>희생 x 사고 o\\n참사와 사고는 뭐 각자 생각해서 쓰길 의미가 너무 광범위하다 둘...</td>\n      <td>6.0</td>\n      <td>2022. 11. 2.</td>\n    </tr>\n  </tbody>\n</table>\n<p>1943 rows × 7 columns</p>\n</div>"
     },
     "execution_count": 14,
     "metadata": {},
     "output_type": "execute_result"
    }
   ],
   "source": [
    "dfs[1]"
   ],
   "metadata": {
    "collapsed": false,
    "ExecuteTime": {
     "end_time": "2023-11-21T15:48:05.586265800Z",
     "start_time": "2023-11-21T15:48:05.544289100Z"
    }
   },
   "id": "e137f5cd144896bd"
  },
  {
   "cell_type": "code",
   "execution_count": 15,
   "outputs": [
    {
     "name": "stdout",
     "output_type": "stream",
     "text": [
      "./2_raw_dataset/국가애도기간_merged.xlsx에 저장 완료\n",
      "./2_raw_dataset/용어지침_merged.xlsx에 저장 완료\n",
      "./2_raw_dataset/대통령사과_merged.xlsx에 저장 완료\n",
      "./2_raw_dataset/경찰책임_merged.xlsx에 저장 완료\n",
      "./2_raw_dataset/정부책임_merged.xlsx에 저장 완료\n",
      "./2_raw_dataset/유가족협의회_merged.xlsx에 저장 완료\n",
      "./2_raw_dataset/특별법_merged.xlsx에 저장 완료\n"
     ]
    }
   ],
   "source": [
    "# 결과를 저장할 디렉토리 생성\n",
    "output_directory = \"./2_raw_dataset/\"\n",
    "os.makedirs(output_directory, exist_ok=True)\n",
    "\n",
    "# 각각의 통합된 데이터프레임을 Excel 파일로 저장\n",
    "for prefix, df in zip(file_prefix, dfs):\n",
    "    output_file_path = f\"{output_directory}{prefix}_merged.xlsx\"\n",
    "    df.to_excel(output_file_path, index=False)\n",
    "    print(f\"{output_file_path}에 저장 완료\")"
   ],
   "metadata": {
    "collapsed": false,
    "ExecuteTime": {
     "end_time": "2023-11-21T15:48:10.196725400Z",
     "start_time": "2023-11-21T15:48:05.574774200Z"
    }
   },
   "id": "409bc055b8d5aaf7"
  },
  {
   "cell_type": "code",
   "execution_count": 15,
   "outputs": [],
   "source": [],
   "metadata": {
    "collapsed": false,
    "ExecuteTime": {
     "end_time": "2023-11-21T15:48:10.217823500Z",
     "start_time": "2023-11-21T15:48:10.184628400Z"
    }
   },
   "id": "de7dc93c365f15f4"
  }
 ],
 "metadata": {
  "kernelspec": {
   "display_name": "Python 3",
   "language": "python",
   "name": "python3"
  },
  "language_info": {
   "codemirror_mode": {
    "name": "ipython",
    "version": 2
   },
   "file_extension": ".py",
   "mimetype": "text/x-python",
   "name": "python",
   "nbconvert_exporter": "python",
   "pygments_lexer": "ipython2",
   "version": "2.7.6"
  }
 },
 "nbformat": 4,
 "nbformat_minor": 5
}
