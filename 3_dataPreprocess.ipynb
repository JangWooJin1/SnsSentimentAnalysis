{
 "cells": [
  {
   "cell_type": "code",
   "execution_count": 109,
   "id": "initial_id",
   "metadata": {
    "collapsed": true,
    "ExecuteTime": {
     "end_time": "2023-11-22T08:30:52.832965900Z",
     "start_time": "2023-11-22T08:30:52.814956600Z"
    }
   },
   "outputs": [],
   "source": [
    "import os\n",
    "import pandas as pd\n",
    "import re"
   ]
  },
  {
   "cell_type": "code",
   "execution_count": 110,
   "outputs": [],
   "source": [
    "# 파일 접두어 정의\n",
    "file_prefixes = [\"국가애도기간\", \"용어지침\", \"대통령사과\", \"경찰책임\", \"정부책임\", \"유가족협의회\", \"특별법\"]\n",
    "\n",
    "# 디렉토리 경로\n",
    "directory_path = \"./2_raw_dataset\"\n",
    "\n",
    "dfs=[]\n",
    "\n",
    "# 각 파일 접두어에 대해 반복\n",
    "for prefix in file_prefixes:\n",
    "    # 파일 경로 정의\n",
    "    file_path = os.path.join(directory_path, f\"{prefix}_merged.xlsx\")\n",
    "\n",
    "    # 파일이 존재하는지 확인\n",
    "    if os.path.exists(file_path):\n",
    "        df = pd.read_excel(file_path)\n",
    "        \n",
    "        dfs.append(df)\n",
    "    else:\n",
    "        print(f\"{prefix}_merged.xlsx 파일을 찾을 수 없습니다.\")"
   ],
   "metadata": {
    "collapsed": false,
    "ExecuteTime": {
     "end_time": "2023-11-22T08:30:54.782645800Z",
     "start_time": "2023-11-22T08:30:53.135331300Z"
    }
   },
   "id": "fd375b456e9e1ec7"
  },
  {
   "cell_type": "code",
   "execution_count": 111,
   "outputs": [
    {
     "data": {
      "text/plain": "      Unnamed: 0   owner                                              title  \\\n0              0     YTN  [속보] 정부 \"5일까지 국가 애도기간\".. 정치권도 위로와 애도 표해  / 이태원...   \n1              1     YTN  [속보] 정부 \"5일까지 국가 애도기간\".. 정치권도 위로와 애도 표해  / 이태원...   \n2              2     YTN  [속보] 정부 \"5일까지 국가 애도기간\".. 정치권도 위로와 애도 표해  / 이태원...   \n3              3     YTN  [속보] 정부 \"5일까지 국가 애도기간\".. 정치권도 위로와 애도 표해  / 이태원...   \n4              4     YTN  [속보] 정부 \"5일까지 국가 애도기간\".. 정치권도 위로와 애도 표해  / 이태원...   \n...          ...     ...                                                ...   \n1351         221  SBS 뉴스  11월 5일까지 국가애도기간…\"신원미확인자, 17세 미만·외국인 등\" (현장영상) ...   \n1352         222  SBS 뉴스  11월 5일까지 국가애도기간…\"신원미확인자, 17세 미만·외국인 등\" (현장영상) ...   \n1353         223  SBS 뉴스  11월 5일까지 국가애도기간…\"신원미확인자, 17세 미만·외국인 등\" (현장영상) ...   \n1354         224  SBS 뉴스  11월 5일까지 국가애도기간…\"신원미확인자, 17세 미만·외국인 등\" (현장영상) ...   \n1355         225  SBS 뉴스  11월 5일까지 국가애도기간…\"신원미확인자, 17세 미만·외국인 등\" (현장영상) ...   \n\n                Username                                            Comment  \\\n0       @user-ss5hd8ou7o   어처구니없는사건 하루종일가슴이먹먹하네요 너무도아까운젊은이들 비통하네요 고인의명복을빕니다   \n1           @topcule3830  국민들이 바라지도 않은 본인 용와대 출근에는 경찰 인력을 700명이나 동원하면서 수...   \n2       @user-zv6ty8rw2i  국가를 위해서 몸바쳐 돌아가신분들은 아닙니다. 국가애도기간이라니…정말 어이가 없네요...   \n3            @Akfg-ez7fq  사전에 통행유도등 통제가\\n제대로 이루어 졌다면 \\n단,한사람의 생명도 잃지\\n않았...   \n4            @yokool6805  애도기간이 일주일이나 된다면 순국열사 수준보다 더하니, 책임자 사퇴시켜라. 국민세금...   \n...                  ...                                                ...   \n1351  @soundofnature6791  그놈의 세월호도 놀러가다 사고난건데 이젠 누구나 놀다가 사고나서 죽으면 다 보상받고...   \n1352    @user-yb1su3pc6l  청와대를 용산으로 옮기지 안했더라면 많은 보안 인력이 이태원으로  배치해서 이렇게 ...   \n1353    @user-ml8pt1ft3f  삼가고인의 명복을빕니다 그리고 내가족이 사고당했다생각하고 정부가하는 최선의 방칙에 ...   \n1354    @user-yb1su3pc6l            너무 젊은 국민들이 많이 사망하여 국가 애도 및 조기계양을 해야 맞다.   \n1355    @user-yb1su3pc6l  애도를 당연히 해야 맞다.\\n국가책무다.\\n왜냐 국민을 안전보호를 다하지 못했다.\\...   \n\n      Likes                        Times  \n0       2.0  실시간 스트리밍 시작일: 2022. 10. 29.  \n1      37.0  실시간 스트리밍 시작일: 2022. 10. 29.  \n2      49.0  실시간 스트리밍 시작일: 2022. 10. 29.  \n3      30.0  실시간 스트리밍 시작일: 2022. 10. 29.  \n4      21.0  실시간 스트리밍 시작일: 2022. 10. 29.  \n...     ...                          ...  \n1351    NaN                2022. 10. 29.  \n1352    2.0                2022. 10. 29.  \n1353    5.0                2022. 10. 29.  \n1354    NaN                2022. 10. 29.  \n1355    NaN                2022. 10. 29.  \n\n[1356 rows x 7 columns]",
      "text/html": "<div>\n<style scoped>\n    .dataframe tbody tr th:only-of-type {\n        vertical-align: middle;\n    }\n\n    .dataframe tbody tr th {\n        vertical-align: top;\n    }\n\n    .dataframe thead th {\n        text-align: right;\n    }\n</style>\n<table border=\"1\" class=\"dataframe\">\n  <thead>\n    <tr style=\"text-align: right;\">\n      <th></th>\n      <th>Unnamed: 0</th>\n      <th>owner</th>\n      <th>title</th>\n      <th>Username</th>\n      <th>Comment</th>\n      <th>Likes</th>\n      <th>Times</th>\n    </tr>\n  </thead>\n  <tbody>\n    <tr>\n      <th>0</th>\n      <td>0</td>\n      <td>YTN</td>\n      <td>[속보] 정부 \"5일까지 국가 애도기간\".. 정치권도 위로와 애도 표해  / 이태원...</td>\n      <td>@user-ss5hd8ou7o</td>\n      <td>어처구니없는사건 하루종일가슴이먹먹하네요 너무도아까운젊은이들 비통하네요 고인의명복을빕니다</td>\n      <td>2.0</td>\n      <td>실시간 스트리밍 시작일: 2022. 10. 29.</td>\n    </tr>\n    <tr>\n      <th>1</th>\n      <td>1</td>\n      <td>YTN</td>\n      <td>[속보] 정부 \"5일까지 국가 애도기간\".. 정치권도 위로와 애도 표해  / 이태원...</td>\n      <td>@topcule3830</td>\n      <td>국민들이 바라지도 않은 본인 용와대 출근에는 경찰 인력을 700명이나 동원하면서 수...</td>\n      <td>37.0</td>\n      <td>실시간 스트리밍 시작일: 2022. 10. 29.</td>\n    </tr>\n    <tr>\n      <th>2</th>\n      <td>2</td>\n      <td>YTN</td>\n      <td>[속보] 정부 \"5일까지 국가 애도기간\".. 정치권도 위로와 애도 표해  / 이태원...</td>\n      <td>@user-zv6ty8rw2i</td>\n      <td>국가를 위해서 몸바쳐 돌아가신분들은 아닙니다. 국가애도기간이라니…정말 어이가 없네요...</td>\n      <td>49.0</td>\n      <td>실시간 스트리밍 시작일: 2022. 10. 29.</td>\n    </tr>\n    <tr>\n      <th>3</th>\n      <td>3</td>\n      <td>YTN</td>\n      <td>[속보] 정부 \"5일까지 국가 애도기간\".. 정치권도 위로와 애도 표해  / 이태원...</td>\n      <td>@Akfg-ez7fq</td>\n      <td>사전에 통행유도등 통제가\\n제대로 이루어 졌다면 \\n단,한사람의 생명도 잃지\\n않았...</td>\n      <td>30.0</td>\n      <td>실시간 스트리밍 시작일: 2022. 10. 29.</td>\n    </tr>\n    <tr>\n      <th>4</th>\n      <td>4</td>\n      <td>YTN</td>\n      <td>[속보] 정부 \"5일까지 국가 애도기간\".. 정치권도 위로와 애도 표해  / 이태원...</td>\n      <td>@yokool6805</td>\n      <td>애도기간이 일주일이나 된다면 순국열사 수준보다 더하니, 책임자 사퇴시켜라. 국민세금...</td>\n      <td>21.0</td>\n      <td>실시간 스트리밍 시작일: 2022. 10. 29.</td>\n    </tr>\n    <tr>\n      <th>...</th>\n      <td>...</td>\n      <td>...</td>\n      <td>...</td>\n      <td>...</td>\n      <td>...</td>\n      <td>...</td>\n      <td>...</td>\n    </tr>\n    <tr>\n      <th>1351</th>\n      <td>221</td>\n      <td>SBS 뉴스</td>\n      <td>11월 5일까지 국가애도기간…\"신원미확인자, 17세 미만·외국인 등\" (현장영상) ...</td>\n      <td>@soundofnature6791</td>\n      <td>그놈의 세월호도 놀러가다 사고난건데 이젠 누구나 놀다가 사고나서 죽으면 다 보상받고...</td>\n      <td>NaN</td>\n      <td>2022. 10. 29.</td>\n    </tr>\n    <tr>\n      <th>1352</th>\n      <td>222</td>\n      <td>SBS 뉴스</td>\n      <td>11월 5일까지 국가애도기간…\"신원미확인자, 17세 미만·외국인 등\" (현장영상) ...</td>\n      <td>@user-yb1su3pc6l</td>\n      <td>청와대를 용산으로 옮기지 안했더라면 많은 보안 인력이 이태원으로  배치해서 이렇게 ...</td>\n      <td>2.0</td>\n      <td>2022. 10. 29.</td>\n    </tr>\n    <tr>\n      <th>1353</th>\n      <td>223</td>\n      <td>SBS 뉴스</td>\n      <td>11월 5일까지 국가애도기간…\"신원미확인자, 17세 미만·외국인 등\" (현장영상) ...</td>\n      <td>@user-ml8pt1ft3f</td>\n      <td>삼가고인의 명복을빕니다 그리고 내가족이 사고당했다생각하고 정부가하는 최선의 방칙에 ...</td>\n      <td>5.0</td>\n      <td>2022. 10. 29.</td>\n    </tr>\n    <tr>\n      <th>1354</th>\n      <td>224</td>\n      <td>SBS 뉴스</td>\n      <td>11월 5일까지 국가애도기간…\"신원미확인자, 17세 미만·외국인 등\" (현장영상) ...</td>\n      <td>@user-yb1su3pc6l</td>\n      <td>너무 젊은 국민들이 많이 사망하여 국가 애도 및 조기계양을 해야 맞다.</td>\n      <td>NaN</td>\n      <td>2022. 10. 29.</td>\n    </tr>\n    <tr>\n      <th>1355</th>\n      <td>225</td>\n      <td>SBS 뉴스</td>\n      <td>11월 5일까지 국가애도기간…\"신원미확인자, 17세 미만·외국인 등\" (현장영상) ...</td>\n      <td>@user-yb1su3pc6l</td>\n      <td>애도를 당연히 해야 맞다.\\n국가책무다.\\n왜냐 국민을 안전보호를 다하지 못했다.\\...</td>\n      <td>NaN</td>\n      <td>2022. 10. 29.</td>\n    </tr>\n  </tbody>\n</table>\n<p>1356 rows × 7 columns</p>\n</div>"
     },
     "execution_count": 111,
     "metadata": {},
     "output_type": "execute_result"
    }
   ],
   "source": [
    "dfs[0]"
   ],
   "metadata": {
    "collapsed": false,
    "ExecuteTime": {
     "end_time": "2023-11-22T08:30:54.833606400Z",
     "start_time": "2023-11-22T08:30:54.785705900Z"
    }
   },
   "id": "10262598732794f9"
  },
  {
   "cell_type": "code",
   "execution_count": 112,
   "outputs": [
    {
     "name": "stdout",
     "output_type": "stream",
     "text": [
      "float64\n"
     ]
    }
   ],
   "source": [
    "print(dfs[0]['Likes'].dtype)"
   ],
   "metadata": {
    "collapsed": false,
    "ExecuteTime": {
     "end_time": "2023-11-22T08:30:54.871923500Z",
     "start_time": "2023-11-22T08:30:54.814189400Z"
    }
   },
   "id": "46aadcd3bc28d53"
  },
  {
   "cell_type": "code",
   "execution_count": 113,
   "outputs": [
    {
     "data": {
      "text/plain": "      Unnamed: 0     owner                                              title  \\\n0              0   MBCNEWS              MBC는 '이태원 참사'가 아닌 '10·29 참사'로 부르겠습니다.   \n1              1   MBCNEWS              MBC는 '이태원 참사'가 아닌 '10·29 참사'로 부르겠습니다.   \n2              2   MBCNEWS              MBC는 '이태원 참사'가 아닌 '10·29 참사'로 부르겠습니다.   \n3              3   MBCNEWS              MBC는 '이태원 참사'가 아닌 '10·29 참사'로 부르겠습니다.   \n4              4   MBCNEWS              MBC는 '이태원 참사'가 아닌 '10·29 참사'로 부르겠습니다.   \n...          ...       ...                                                ...   \n1938          18  KBS News  “관광지 피해 고려 ‘참사’ 대신 ‘사고’…‘사망자’는 중립 표현” [9시 뉴스] ...   \n1939          19  KBS News  “관광지 피해 고려 ‘참사’ 대신 ‘사고’…‘사망자’는 중립 표현” [9시 뉴스] ...   \n1940          20  KBS News  “관광지 피해 고려 ‘참사’ 대신 ‘사고’…‘사망자’는 중립 표현” [9시 뉴스] ...   \n1941          21  KBS News  “관광지 피해 고려 ‘참사’ 대신 ‘사고’…‘사망자’는 중립 표현” [9시 뉴스] ...   \n1942          22  KBS News  “관광지 피해 고려 ‘참사’ 대신 ‘사고’…‘사망자’는 중립 표현” [9시 뉴스] ...   \n\n              Username                                            Comment  \\\n0            @korea333             MBC가 있어서 다행이고 안심이 됩니다. 국민에게 소중한 MBC!!!   \n1         @bluesky8629     10.29 참사를 잊지 않겠습니다. 다시 이러한 희생이 반복되지 않기를 기도합니다.   \n2         @sompark1322                             1029 참사 희생자분들의 명복을 빕니다   \n3     @user-tk4wc8gy7q                MBC 감사합니다. 10.29 참사 희생자분들의 명복을 빕니다.   \n4     @user-oz4gz1su3r     그럼 대구지하철 참사라고 안불렀어야지 삼십년간 대구지하철 참사로 부른 언론들은 뭔지   \n...                ...                                                ...   \n1938         @qqpp6017                                   놀러가서 죽은건데 희생이야??   \n1939  @user-ef6yt5hn6q                                         윤석열은 사퇴하라.   \n1940  @user-xi6rr5nk8r  솔직히 사고사망자가 맞지!!\\n이태원 할로윈에 놀러갔다 일어난 사곤데 무슨 희생자?...   \n1941  @user-zr9yb1xi8l                              그게 왜 사고사냐?  참사 희생자지ㆍㆍ   \n1942     @rewqqwer9783  희생 x 사고 o\\n참사와 사고는 뭐 각자 생각해서 쓰길 의미가 너무 광범위하다 둘...   \n\n     Likes         Times  \n0       40  2022. 11. 5.  \n1      223  2022. 11. 5.  \n2      108  2022. 11. 5.  \n3       60  2022. 11. 5.  \n4       14  2022. 11. 5.  \n...    ...           ...  \n1938    14  2022. 11. 2.  \n1939     8  2022. 11. 2.  \n1940     3  2022. 11. 2.  \n1941     1  2022. 11. 2.  \n1942     6  2022. 11. 2.  \n\n[1943 rows x 7 columns]",
      "text/html": "<div>\n<style scoped>\n    .dataframe tbody tr th:only-of-type {\n        vertical-align: middle;\n    }\n\n    .dataframe tbody tr th {\n        vertical-align: top;\n    }\n\n    .dataframe thead th {\n        text-align: right;\n    }\n</style>\n<table border=\"1\" class=\"dataframe\">\n  <thead>\n    <tr style=\"text-align: right;\">\n      <th></th>\n      <th>Unnamed: 0</th>\n      <th>owner</th>\n      <th>title</th>\n      <th>Username</th>\n      <th>Comment</th>\n      <th>Likes</th>\n      <th>Times</th>\n    </tr>\n  </thead>\n  <tbody>\n    <tr>\n      <th>0</th>\n      <td>0</td>\n      <td>MBCNEWS</td>\n      <td>MBC는 '이태원 참사'가 아닌 '10·29 참사'로 부르겠습니다.</td>\n      <td>@korea333</td>\n      <td>MBC가 있어서 다행이고 안심이 됩니다. 국민에게 소중한 MBC!!!</td>\n      <td>40</td>\n      <td>2022. 11. 5.</td>\n    </tr>\n    <tr>\n      <th>1</th>\n      <td>1</td>\n      <td>MBCNEWS</td>\n      <td>MBC는 '이태원 참사'가 아닌 '10·29 참사'로 부르겠습니다.</td>\n      <td>@bluesky8629</td>\n      <td>10.29 참사를 잊지 않겠습니다. 다시 이러한 희생이 반복되지 않기를 기도합니다.</td>\n      <td>223</td>\n      <td>2022. 11. 5.</td>\n    </tr>\n    <tr>\n      <th>2</th>\n      <td>2</td>\n      <td>MBCNEWS</td>\n      <td>MBC는 '이태원 참사'가 아닌 '10·29 참사'로 부르겠습니다.</td>\n      <td>@sompark1322</td>\n      <td>1029 참사 희생자분들의 명복을 빕니다</td>\n      <td>108</td>\n      <td>2022. 11. 5.</td>\n    </tr>\n    <tr>\n      <th>3</th>\n      <td>3</td>\n      <td>MBCNEWS</td>\n      <td>MBC는 '이태원 참사'가 아닌 '10·29 참사'로 부르겠습니다.</td>\n      <td>@user-tk4wc8gy7q</td>\n      <td>MBC 감사합니다. 10.29 참사 희생자분들의 명복을 빕니다.</td>\n      <td>60</td>\n      <td>2022. 11. 5.</td>\n    </tr>\n    <tr>\n      <th>4</th>\n      <td>4</td>\n      <td>MBCNEWS</td>\n      <td>MBC는 '이태원 참사'가 아닌 '10·29 참사'로 부르겠습니다.</td>\n      <td>@user-oz4gz1su3r</td>\n      <td>그럼 대구지하철 참사라고 안불렀어야지 삼십년간 대구지하철 참사로 부른 언론들은 뭔지</td>\n      <td>14</td>\n      <td>2022. 11. 5.</td>\n    </tr>\n    <tr>\n      <th>...</th>\n      <td>...</td>\n      <td>...</td>\n      <td>...</td>\n      <td>...</td>\n      <td>...</td>\n      <td>...</td>\n      <td>...</td>\n    </tr>\n    <tr>\n      <th>1938</th>\n      <td>18</td>\n      <td>KBS News</td>\n      <td>“관광지 피해 고려 ‘참사’ 대신 ‘사고’…‘사망자’는 중립 표현” [9시 뉴스] ...</td>\n      <td>@qqpp6017</td>\n      <td>놀러가서 죽은건데 희생이야??</td>\n      <td>14</td>\n      <td>2022. 11. 2.</td>\n    </tr>\n    <tr>\n      <th>1939</th>\n      <td>19</td>\n      <td>KBS News</td>\n      <td>“관광지 피해 고려 ‘참사’ 대신 ‘사고’…‘사망자’는 중립 표현” [9시 뉴스] ...</td>\n      <td>@user-ef6yt5hn6q</td>\n      <td>윤석열은 사퇴하라.</td>\n      <td>8</td>\n      <td>2022. 11. 2.</td>\n    </tr>\n    <tr>\n      <th>1940</th>\n      <td>20</td>\n      <td>KBS News</td>\n      <td>“관광지 피해 고려 ‘참사’ 대신 ‘사고’…‘사망자’는 중립 표현” [9시 뉴스] ...</td>\n      <td>@user-xi6rr5nk8r</td>\n      <td>솔직히 사고사망자가 맞지!!\\n이태원 할로윈에 놀러갔다 일어난 사곤데 무슨 희생자?...</td>\n      <td>3</td>\n      <td>2022. 11. 2.</td>\n    </tr>\n    <tr>\n      <th>1941</th>\n      <td>21</td>\n      <td>KBS News</td>\n      <td>“관광지 피해 고려 ‘참사’ 대신 ‘사고’…‘사망자’는 중립 표현” [9시 뉴스] ...</td>\n      <td>@user-zr9yb1xi8l</td>\n      <td>그게 왜 사고사냐?  참사 희생자지ㆍㆍ</td>\n      <td>1</td>\n      <td>2022. 11. 2.</td>\n    </tr>\n    <tr>\n      <th>1942</th>\n      <td>22</td>\n      <td>KBS News</td>\n      <td>“관광지 피해 고려 ‘참사’ 대신 ‘사고’…‘사망자’는 중립 표현” [9시 뉴스] ...</td>\n      <td>@rewqqwer9783</td>\n      <td>희생 x 사고 o\\n참사와 사고는 뭐 각자 생각해서 쓰길 의미가 너무 광범위하다 둘...</td>\n      <td>6</td>\n      <td>2022. 11. 2.</td>\n    </tr>\n  </tbody>\n</table>\n<p>1943 rows × 7 columns</p>\n</div>"
     },
     "execution_count": 113,
     "metadata": {},
     "output_type": "execute_result"
    }
   ],
   "source": [
    "dfs[1]"
   ],
   "metadata": {
    "collapsed": false,
    "ExecuteTime": {
     "end_time": "2023-11-22T08:30:54.949120600Z",
     "start_time": "2023-11-22T08:30:54.829608500Z"
    }
   },
   "id": "4e2f1b29cece8283"
  },
  {
   "cell_type": "code",
   "execution_count": 114,
   "outputs": [
    {
     "name": "stdout",
     "output_type": "stream",
     "text": [
      "object\n"
     ]
    }
   ],
   "source": [
    "print(dfs[1]['Likes'].dtype)"
   ],
   "metadata": {
    "collapsed": false,
    "ExecuteTime": {
     "end_time": "2023-11-22T08:30:54.993291200Z",
     "start_time": "2023-11-22T08:30:54.845251200Z"
    }
   },
   "id": "8f1a153d365c695b"
  },
  {
   "cell_type": "code",
   "execution_count": 115,
   "outputs": [],
   "source": [
    "# 날짜를 추출하는 함수 정의\n",
    "def extract_date(text):\n",
    "    match = re.search(r'\\d{4}\\. \\d{2}\\. \\d{2}', text)\n",
    "    if match:\n",
    "        return match.group()\n",
    "    else:\n",
    "        return text"
   ],
   "metadata": {
    "collapsed": false,
    "ExecuteTime": {
     "end_time": "2023-11-22T08:30:54.994793400Z",
     "start_time": "2023-11-22T08:30:54.859762100Z"
    }
   },
   "id": "e20c0a0084dd6a26"
  },
  {
   "cell_type": "code",
   "execution_count": 116,
   "outputs": [],
   "source": [
    "for df in dfs:\n",
    "    df['Times'] = df['Times'].apply(extract_date)"
   ],
   "metadata": {
    "collapsed": false,
    "ExecuteTime": {
     "end_time": "2023-11-22T08:30:54.995788800Z",
     "start_time": "2023-11-22T08:30:54.876600500Z"
    }
   },
   "id": "75e0bb31f3a35fb1"
  },
  {
   "cell_type": "code",
   "execution_count": 117,
   "outputs": [
    {
     "data": {
      "text/plain": "      Unnamed: 0   owner                                              title  \\\n0              0     YTN  [속보] 정부 \"5일까지 국가 애도기간\".. 정치권도 위로와 애도 표해  / 이태원...   \n1              1     YTN  [속보] 정부 \"5일까지 국가 애도기간\".. 정치권도 위로와 애도 표해  / 이태원...   \n2              2     YTN  [속보] 정부 \"5일까지 국가 애도기간\".. 정치권도 위로와 애도 표해  / 이태원...   \n3              3     YTN  [속보] 정부 \"5일까지 국가 애도기간\".. 정치권도 위로와 애도 표해  / 이태원...   \n4              4     YTN  [속보] 정부 \"5일까지 국가 애도기간\".. 정치권도 위로와 애도 표해  / 이태원...   \n...          ...     ...                                                ...   \n1351         221  SBS 뉴스  11월 5일까지 국가애도기간…\"신원미확인자, 17세 미만·외국인 등\" (현장영상) ...   \n1352         222  SBS 뉴스  11월 5일까지 국가애도기간…\"신원미확인자, 17세 미만·외국인 등\" (현장영상) ...   \n1353         223  SBS 뉴스  11월 5일까지 국가애도기간…\"신원미확인자, 17세 미만·외국인 등\" (현장영상) ...   \n1354         224  SBS 뉴스  11월 5일까지 국가애도기간…\"신원미확인자, 17세 미만·외국인 등\" (현장영상) ...   \n1355         225  SBS 뉴스  11월 5일까지 국가애도기간…\"신원미확인자, 17세 미만·외국인 등\" (현장영상) ...   \n\n                Username                                            Comment  \\\n0       @user-ss5hd8ou7o   어처구니없는사건 하루종일가슴이먹먹하네요 너무도아까운젊은이들 비통하네요 고인의명복을빕니다   \n1           @topcule3830  국민들이 바라지도 않은 본인 용와대 출근에는 경찰 인력을 700명이나 동원하면서 수...   \n2       @user-zv6ty8rw2i  국가를 위해서 몸바쳐 돌아가신분들은 아닙니다. 국가애도기간이라니…정말 어이가 없네요...   \n3            @Akfg-ez7fq  사전에 통행유도등 통제가\\n제대로 이루어 졌다면 \\n단,한사람의 생명도 잃지\\n않았...   \n4            @yokool6805  애도기간이 일주일이나 된다면 순국열사 수준보다 더하니, 책임자 사퇴시켜라. 국민세금...   \n...                  ...                                                ...   \n1351  @soundofnature6791  그놈의 세월호도 놀러가다 사고난건데 이젠 누구나 놀다가 사고나서 죽으면 다 보상받고...   \n1352    @user-yb1su3pc6l  청와대를 용산으로 옮기지 안했더라면 많은 보안 인력이 이태원으로  배치해서 이렇게 ...   \n1353    @user-ml8pt1ft3f  삼가고인의 명복을빕니다 그리고 내가족이 사고당했다생각하고 정부가하는 최선의 방칙에 ...   \n1354    @user-yb1su3pc6l            너무 젊은 국민들이 많이 사망하여 국가 애도 및 조기계양을 해야 맞다.   \n1355    @user-yb1su3pc6l  애도를 당연히 해야 맞다.\\n국가책무다.\\n왜냐 국민을 안전보호를 다하지 못했다.\\...   \n\n      Likes         Times  \n0       2.0  2022. 10. 29  \n1      37.0  2022. 10. 29  \n2      49.0  2022. 10. 29  \n3      30.0  2022. 10. 29  \n4      21.0  2022. 10. 29  \n...     ...           ...  \n1351    NaN  2022. 10. 29  \n1352    2.0  2022. 10. 29  \n1353    5.0  2022. 10. 29  \n1354    NaN  2022. 10. 29  \n1355    NaN  2022. 10. 29  \n\n[1356 rows x 7 columns]",
      "text/html": "<div>\n<style scoped>\n    .dataframe tbody tr th:only-of-type {\n        vertical-align: middle;\n    }\n\n    .dataframe tbody tr th {\n        vertical-align: top;\n    }\n\n    .dataframe thead th {\n        text-align: right;\n    }\n</style>\n<table border=\"1\" class=\"dataframe\">\n  <thead>\n    <tr style=\"text-align: right;\">\n      <th></th>\n      <th>Unnamed: 0</th>\n      <th>owner</th>\n      <th>title</th>\n      <th>Username</th>\n      <th>Comment</th>\n      <th>Likes</th>\n      <th>Times</th>\n    </tr>\n  </thead>\n  <tbody>\n    <tr>\n      <th>0</th>\n      <td>0</td>\n      <td>YTN</td>\n      <td>[속보] 정부 \"5일까지 국가 애도기간\".. 정치권도 위로와 애도 표해  / 이태원...</td>\n      <td>@user-ss5hd8ou7o</td>\n      <td>어처구니없는사건 하루종일가슴이먹먹하네요 너무도아까운젊은이들 비통하네요 고인의명복을빕니다</td>\n      <td>2.0</td>\n      <td>2022. 10. 29</td>\n    </tr>\n    <tr>\n      <th>1</th>\n      <td>1</td>\n      <td>YTN</td>\n      <td>[속보] 정부 \"5일까지 국가 애도기간\".. 정치권도 위로와 애도 표해  / 이태원...</td>\n      <td>@topcule3830</td>\n      <td>국민들이 바라지도 않은 본인 용와대 출근에는 경찰 인력을 700명이나 동원하면서 수...</td>\n      <td>37.0</td>\n      <td>2022. 10. 29</td>\n    </tr>\n    <tr>\n      <th>2</th>\n      <td>2</td>\n      <td>YTN</td>\n      <td>[속보] 정부 \"5일까지 국가 애도기간\".. 정치권도 위로와 애도 표해  / 이태원...</td>\n      <td>@user-zv6ty8rw2i</td>\n      <td>국가를 위해서 몸바쳐 돌아가신분들은 아닙니다. 국가애도기간이라니…정말 어이가 없네요...</td>\n      <td>49.0</td>\n      <td>2022. 10. 29</td>\n    </tr>\n    <tr>\n      <th>3</th>\n      <td>3</td>\n      <td>YTN</td>\n      <td>[속보] 정부 \"5일까지 국가 애도기간\".. 정치권도 위로와 애도 표해  / 이태원...</td>\n      <td>@Akfg-ez7fq</td>\n      <td>사전에 통행유도등 통제가\\n제대로 이루어 졌다면 \\n단,한사람의 생명도 잃지\\n않았...</td>\n      <td>30.0</td>\n      <td>2022. 10. 29</td>\n    </tr>\n    <tr>\n      <th>4</th>\n      <td>4</td>\n      <td>YTN</td>\n      <td>[속보] 정부 \"5일까지 국가 애도기간\".. 정치권도 위로와 애도 표해  / 이태원...</td>\n      <td>@yokool6805</td>\n      <td>애도기간이 일주일이나 된다면 순국열사 수준보다 더하니, 책임자 사퇴시켜라. 국민세금...</td>\n      <td>21.0</td>\n      <td>2022. 10. 29</td>\n    </tr>\n    <tr>\n      <th>...</th>\n      <td>...</td>\n      <td>...</td>\n      <td>...</td>\n      <td>...</td>\n      <td>...</td>\n      <td>...</td>\n      <td>...</td>\n    </tr>\n    <tr>\n      <th>1351</th>\n      <td>221</td>\n      <td>SBS 뉴스</td>\n      <td>11월 5일까지 국가애도기간…\"신원미확인자, 17세 미만·외국인 등\" (현장영상) ...</td>\n      <td>@soundofnature6791</td>\n      <td>그놈의 세월호도 놀러가다 사고난건데 이젠 누구나 놀다가 사고나서 죽으면 다 보상받고...</td>\n      <td>NaN</td>\n      <td>2022. 10. 29</td>\n    </tr>\n    <tr>\n      <th>1352</th>\n      <td>222</td>\n      <td>SBS 뉴스</td>\n      <td>11월 5일까지 국가애도기간…\"신원미확인자, 17세 미만·외국인 등\" (현장영상) ...</td>\n      <td>@user-yb1su3pc6l</td>\n      <td>청와대를 용산으로 옮기지 안했더라면 많은 보안 인력이 이태원으로  배치해서 이렇게 ...</td>\n      <td>2.0</td>\n      <td>2022. 10. 29</td>\n    </tr>\n    <tr>\n      <th>1353</th>\n      <td>223</td>\n      <td>SBS 뉴스</td>\n      <td>11월 5일까지 국가애도기간…\"신원미확인자, 17세 미만·외국인 등\" (현장영상) ...</td>\n      <td>@user-ml8pt1ft3f</td>\n      <td>삼가고인의 명복을빕니다 그리고 내가족이 사고당했다생각하고 정부가하는 최선의 방칙에 ...</td>\n      <td>5.0</td>\n      <td>2022. 10. 29</td>\n    </tr>\n    <tr>\n      <th>1354</th>\n      <td>224</td>\n      <td>SBS 뉴스</td>\n      <td>11월 5일까지 국가애도기간…\"신원미확인자, 17세 미만·외국인 등\" (현장영상) ...</td>\n      <td>@user-yb1su3pc6l</td>\n      <td>너무 젊은 국민들이 많이 사망하여 국가 애도 및 조기계양을 해야 맞다.</td>\n      <td>NaN</td>\n      <td>2022. 10. 29</td>\n    </tr>\n    <tr>\n      <th>1355</th>\n      <td>225</td>\n      <td>SBS 뉴스</td>\n      <td>11월 5일까지 국가애도기간…\"신원미확인자, 17세 미만·외국인 등\" (현장영상) ...</td>\n      <td>@user-yb1su3pc6l</td>\n      <td>애도를 당연히 해야 맞다.\\n국가책무다.\\n왜냐 국민을 안전보호를 다하지 못했다.\\...</td>\n      <td>NaN</td>\n      <td>2022. 10. 29</td>\n    </tr>\n  </tbody>\n</table>\n<p>1356 rows × 7 columns</p>\n</div>"
     },
     "execution_count": 117,
     "metadata": {},
     "output_type": "execute_result"
    }
   ],
   "source": [
    "dfs[0]"
   ],
   "metadata": {
    "collapsed": false,
    "ExecuteTime": {
     "end_time": "2023-11-22T08:30:55.226551500Z",
     "start_time": "2023-11-22T08:30:55.154832900Z"
    }
   },
   "id": "b41ef80e7cb3d60d"
  },
  {
   "cell_type": "code",
   "execution_count": 118,
   "outputs": [],
   "source": [
    "# Likes 컬럼의 값을 숫자로 변환하는 함수 정의\n",
    "def convert_likes(likes_str):\n",
    "    if isinstance(likes_str, str):  # 문자열인 경우에만 처리\n",
    "        if '천' in likes_str:\n",
    "            return float(likes_str.replace('천', '')) * 1000\n",
    "        elif '만' in likes_str:\n",
    "            return float(likes_str.replace('만', '')) * 10000\n",
    "        else:\n",
    "            return float(likes_str)\n",
    "    else:\n",
    "        return likes_str  # 정수인 경우에는 그대로 반환"
   ],
   "metadata": {
    "collapsed": false,
    "ExecuteTime": {
     "end_time": "2023-11-22T08:30:55.525004300Z",
     "start_time": "2023-11-22T08:30:55.463266Z"
    }
   },
   "id": "6605ae898ff68e04"
  },
  {
   "cell_type": "code",
   "execution_count": 119,
   "outputs": [],
   "source": [
    "# 각 데이터프레임에 대해 작업 수행\n",
    "for df in dfs:\n",
    "    # Likes 컬럼의 데이터 타입에 따라 처리\n",
    "    if df['Likes'].dtype != 'float64':\n",
    "        df['Likes'] = df['Likes'].apply(convert_likes)"
   ],
   "metadata": {
    "collapsed": false,
    "ExecuteTime": {
     "end_time": "2023-11-22T08:30:56.625855400Z",
     "start_time": "2023-11-22T08:30:56.610500800Z"
    }
   },
   "id": "fb0ae54eee47a7ef"
  },
  {
   "cell_type": "code",
   "execution_count": 120,
   "outputs": [
    {
     "name": "stdout",
     "output_type": "stream",
     "text": [
      "국가애도기간 파일 null처리중...\n",
      "\t처리전 null 개수: 1\n",
      "\t처리후 null 개수: 0\n",
      "용어지침 파일 null처리중...\n",
      "\t처리전 null 개수: 0\n",
      "\t처리후 null 개수: 0\n",
      "대통령사과 파일 null처리중...\n",
      "\t처리전 null 개수: 1\n",
      "\t처리후 null 개수: 0\n",
      "경찰책임 파일 null처리중...\n",
      "\t처리전 null 개수: 1\n",
      "\t처리후 null 개수: 0\n",
      "정부책임 파일 null처리중...\n",
      "\t처리전 null 개수: 0\n",
      "\t처리후 null 개수: 0\n",
      "유가족협의회 파일 null처리중...\n",
      "\t처리전 null 개수: 2\n",
      "\t처리후 null 개수: 0\n",
      "특별법 파일 null처리중...\n",
      "\t처리전 null 개수: 1\n",
      "\t처리후 null 개수: 0\n"
     ]
    }
   ],
   "source": [
    "for i,df in enumerate(dfs):\n",
    "    print(f\"{file_prefixes[i]} 파일 null처리중...\")\n",
    "    print(f\"\\t처리전 null 개수: {df['Comment'].isnull().sum()}\")\n",
    "    df.dropna(subset=['Comment'], inplace=True)\n",
    "    print(f\"\\t처리후 null 개수: {df['Comment'].isnull().sum()}\")"
   ],
   "metadata": {
    "collapsed": false,
    "ExecuteTime": {
     "end_time": "2023-11-22T08:30:58.914724400Z",
     "start_time": "2023-11-22T08:30:58.885414800Z"
    }
   },
   "id": "17904c451b686d0a"
  },
  {
   "cell_type": "code",
   "execution_count": 122,
   "outputs": [
    {
     "name": "stdout",
     "output_type": "stream",
     "text": [
      "국가애도기간 파일 도배 댓글 처리중...\n",
      "\t처리전 행 개수: 1355\n",
      "\t처리후 행 개수: 1353\n",
      "용어지침 파일 도배 댓글 처리중...\n",
      "\t처리전 행 개수: 1943\n",
      "\t처리후 행 개수: 1931\n",
      "대통령사과 파일 도배 댓글 처리중...\n",
      "\t처리전 행 개수: 1052\n",
      "\t처리후 행 개수: 1051\n",
      "경찰책임 파일 도배 댓글 처리중...\n",
      "\t처리전 행 개수: 4033\n",
      "\t처리후 행 개수: 4031\n",
      "정부책임 파일 도배 댓글 처리중...\n",
      "\t처리전 행 개수: 984\n",
      "\t처리후 행 개수: 979\n",
      "유가족협의회 파일 도배 댓글 처리중...\n",
      "\t처리전 행 개수: 911\n",
      "\t처리후 행 개수: 900\n",
      "특별법 파일 도배 댓글 처리중...\n",
      "\t처리전 행 개수: 575\n",
      "\t처리후 행 개수: 556\n"
     ]
    }
   ],
   "source": [
    "for i,df in enumerate(dfs):\n",
    "    print(f\"{file_prefixes[i]} 파일 도배 댓글 처리중...\")\n",
    "    print(f\"\\t처리전 행 개수: {df.shape[0]}\")\n",
    "    df.drop_duplicates(subset=['Username', 'Comment'], inplace=True)\n",
    "    print(f\"\\t처리후 행 개수: {df.shape[0]}\")"
   ],
   "metadata": {
    "collapsed": false,
    "ExecuteTime": {
     "end_time": "2023-11-22T08:31:32.361450900Z",
     "start_time": "2023-11-22T08:31:32.315114300Z"
    }
   },
   "id": "2771a49878b72bce"
  },
  {
   "cell_type": "code",
   "execution_count": 123,
   "outputs": [
    {
     "name": "stdout",
     "output_type": "stream",
     "text": [
      "./3_processed_dataset/국가애도기간_processed.xlsx에 저장 완료\n",
      "./3_processed_dataset/용어지침_processed.xlsx에 저장 완료\n",
      "./3_processed_dataset/대통령사과_processed.xlsx에 저장 완료\n",
      "./3_processed_dataset/경찰책임_processed.xlsx에 저장 완료\n",
      "./3_processed_dataset/정부책임_processed.xlsx에 저장 완료\n",
      "./3_processed_dataset/유가족협의회_processed.xlsx에 저장 완료\n",
      "./3_processed_dataset/특별법_processed.xlsx에 저장 완료\n"
     ]
    }
   ],
   "source": [
    "# 결과를 저장할 디렉토리 생성\n",
    "output_directory = \"./3_processed_dataset/\"\n",
    "os.makedirs(output_directory, exist_ok=True)\n",
    "\n",
    "# 각각의 통합된 데이터프레임을 Excel 파일로 저장\n",
    "for prefix, df in zip(file_prefixes, dfs):\n",
    "    output_file_path = f\"{output_directory}{prefix}_processed.xlsx\"\n",
    "    df.to_excel(output_file_path, index=False)\n",
    "    print(f\"{output_file_path}에 저장 완료\")"
   ],
   "metadata": {
    "collapsed": false,
    "ExecuteTime": {
     "end_time": "2023-11-22T08:31:46.782527600Z",
     "start_time": "2023-11-22T08:31:44.066203800Z"
    }
   },
   "id": "c1eb4f9202396e3c"
  },
  {
   "cell_type": "code",
   "execution_count": null,
   "outputs": [],
   "source": [],
   "metadata": {
    "collapsed": false
   },
   "id": "26037bb88d9950f7"
  }
 ],
 "metadata": {
  "kernelspec": {
   "display_name": "Python 3",
   "language": "python",
   "name": "python3"
  },
  "language_info": {
   "codemirror_mode": {
    "name": "ipython",
    "version": 2
   },
   "file_extension": ".py",
   "mimetype": "text/x-python",
   "name": "python",
   "nbconvert_exporter": "python",
   "pygments_lexer": "ipython2",
   "version": "2.7.6"
  }
 },
 "nbformat": 4,
 "nbformat_minor": 5
}
